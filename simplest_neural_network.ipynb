{
 "cells": [
  {
   "cell_type": "code",
   "execution_count": 1,
   "metadata": {
    "collapsed": true,
    "pycharm": {
     "is_executing": false
    }
   },
   "outputs": [],
   "source": [
    "import numpy as np\n",
    "import pandas as pd\n",
    "import matplotlib.pyplot as plt\n",
    "from mpl_toolkits.mplot3d import Axes3D\n",
    "from time import time\n",
    "\n",
    "from lib.perceptron import Perceptron\n",
    "from lib.plot_3d import *"
   ]
  },
  {
   "cell_type": "code",
   "execution_count": 6,
   "outputs": [
    {
     "name": "stdout",
     "text": [
      "Shape of gaussian distribution 1:  (100, 3)\n",
      "Shape of gaussian distribution 2:  (100, 3)\n",
      "Shape of training dataset:  (200, 3)\n",
      "Shape after adding dimension with constant value:  (200, 4)\n",
      "Shape of label dataset:  (200,)\n"
     ],
     "output_type": "stream"
    }
   ],
   "source": [
    "num_values = 100\n",
    "\n",
    "mean1 = [0,0,0]\n",
    "mean2 = [12,12,12]\n",
    "covar = [[1,0,0],[0,1,0],[0,0,1]]\n",
    "\n",
    "x1 = np.random.multivariate_normal(mean1, covar, (num_values))\n",
    "print(\"Shape of gaussian distribution 1: \", x1.shape)\n",
    "\n",
    "x2 = np.random.multivariate_normal(mean2, covar, (num_values))\n",
    "print(\"Shape of gaussian distribution 2: \", x2.shape)\n",
    "\n",
    "final_x = np.concatenate([x1,x2])\n",
    "print(\"Shape of training dataset: \",final_x.shape)\n",
    "\n",
    "# Adding a 4th dimension for ease of computing along with bias\n",
    "final_x = np.concatenate([final_x,np.ones(len(final_x)).reshape(len(final_x),1)],axis=1)\n",
    "print(\"Shape after adding dimension with constant value: \", final_x.shape)\n",
    "\n",
    "y1 = np.array([-1 for x in range(num_values)])\n",
    "y2 = np.array([1 for x in range(num_values)])\n",
    "final_y = np.concatenate([y1,y2])\n",
    "print(\"Shape of label dataset: \",final_y.shape)\n"
   ],
   "metadata": {
    "collapsed": false,
    "pycharm": {
     "name": "#%%\n",
     "is_executing": false
    }
   }
  },
  {
   "cell_type": "code",
   "execution_count": 7,
   "outputs": [
    {
     "name": "stdout",
     "text": [
      "Number of batches formed:  40\n",
      "\n",
      "Summary of epoch : 0 | Total batches : 40 | Total Misclassified : 12\n",
      "Summary of epoch : 1 | Total batches : 40 | Total Misclassified : 39\n",
      "Summary of epoch : 2 | Total batches : 40 | Total Misclassified : 14\n",
      "Summary of epoch : 3 | Total batches : 40 | Total Misclassified : 7\n",
      "Summary of epoch : 4 | Total batches : 40 | Total Misclassified : 2\n",
      "Summary of epoch : 5 | Total batches : 40 | Total Misclassified : 0\n",
      "\n",
      "\n",
      "Classification Hyperplane : 4.76x + 15.82y + 10.24z + -63.25\n",
      "CPU times: user 20.8 ms, sys: 9.55 ms, total: 30.3 ms\n",
      "Wall time: 23.9 ms\n"
     ],
     "output_type": "stream"
    },
    {
     "data": {
      "text/plain": "(array([  4.75629709,  15.82183783,  10.24174237, -63.25049379]), 6)"
     },
     "metadata": {},
     "output_type": "execute_result",
     "execution_count": 7
    }
   ],
   "source": [
    "%%time\n",
    "\n",
    "l_rate = 0.05\n",
    "b_size = len(final_x)\n",
    "init_weights = np.ones(4)\n",
    "\n",
    "perceptron = Perceptron(dim=3, batch_size=5)\n",
    "\n",
    "perceptron.fit(final_x,final_y)\n",
    "\n",
    "# K = compute_k(final_x,init_weights,batch_weights)\n",
    "# print(\"\\nOptimal number of iterations to converge: %d\"%K)\n"
   ],
   "metadata": {
    "collapsed": false,
    "pycharm": {
     "name": "#%%\n",
     "is_executing": false
    }
   }
  },
  {
   "cell_type": "code",
   "execution_count": 23,
   "outputs": [
    {
     "data": {
      "text/plain": "50"
     },
     "metadata": {},
     "output_type": "execute_result",
     "execution_count": 23
    }
   ],
   "source": [
    "final_y.shape[0]"
   ],
   "metadata": {
    "collapsed": false,
    "pycharm": {
     "name": "#%%\n",
     "is_executing": false
    }
   }
  },
  {
   "cell_type": "code",
   "execution_count": null,
   "outputs": [],
   "source": [
    "\n"
   ],
   "metadata": {
    "collapsed": false,
    "pycharm": {
     "name": "#%%\n"
    }
   }
  }
 ],
 "metadata": {
  "kernelspec": {
   "display_name": "Python 3",
   "language": "python",
   "name": "python3"
  },
  "language_info": {
   "codemirror_mode": {
    "name": "ipython",
    "version": 2
   },
   "file_extension": ".py",
   "mimetype": "text/x-python",
   "name": "python",
   "nbconvert_exporter": "python",
   "pygments_lexer": "ipython2",
   "version": "2.7.6"
  },
  "pycharm": {
   "stem_cell": {
    "cell_type": "raw",
    "source": [],
    "metadata": {
     "collapsed": false
    }
   }
  }
 },
 "nbformat": 4,
 "nbformat_minor": 0
}